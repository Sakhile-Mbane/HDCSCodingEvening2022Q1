{
 "cells": [
  {
   "cell_type": "markdown",
   "metadata": {},
   "source": [
    "Disarium Challenge\n",
    "\n",
    "A Disarium is defined as a number whose:\n",
    "\n",
    "Sum of its digits powered with their respective position is equal to the original number\n",
    "\n",
    "Your Task:\n",
    "\n",
    "You are totally obsessed with whether a number is a Disarium or not. You have such a compelling desire to fulfil the Disarium itch\n",
    "that you refuse to read any non-disarium numbered pages in any given book. \n",
    "\n",
    "You now, however, have 2 problems:\n",
    "\n",
    "Your teacher just assigned you to read your textbook from page n to page m\n",
    "You suffered a head injury during martial arts training that has caused you a mild case of amnesia and you have forgotten how to \n",
    "programmatically determine how to determine if a page number is a disarium number or not.\n",
    "\n",
    "You need to identify all of the disarium within an inclusive range of n through m.\n",
    "\n",
    "Examples of a disarium:\n",
    "\t\n",
    "89 = 8^1 + 9^2\n",
    "\n",
    "135 = 1^1 + 3^2 + 5^3\n",
    "\n",
    "518 = 5^1 + 1^2 + 8^3\n",
    "\n",
    "\n",
    "-------------\n",
    "Requirements:\n",
    "-------------\n",
    "\n",
    "You will need to create a function named findDisarium() that takes the first page number and the last page number (adhere\n",
    "to you the code languages naming convention for functions).\n",
    "The function will then output all of the disarium numbers in that range in a string with each number \n",
    "separated by a pipe with a space on either side.\n",
    "\n",
    "Examples:\n",
    "--------\n",
    "\n",
    "Input                      | Output\n",
    "------------------------------------------------\n",
    "findDisarium(1, 600)       --> \"1 | 2 | 3 | 4 | 5 | 6 | 7 | 8 | 9 | 89 | 135 | 175 | 518 | 598\"\n",
    "findDisarium(50, 2000)     --> \"89 | 135 | 175 | 518 | 598 | 1306 | 1676\"\n",
    "findDisarium(150, 3000000) --> \"175 | 518 | 598 | 1306 | 1676 | 2427 | 2646798\"\n",
    "findDisarium(-6, 200)      --> \"Please enter valid page numbers\"\n",
    "\n",
    "\n",
    "If you complete the challenge in time, you can also create unit tests for the cases above to ensure that your code runs as expected."
   ]
  },
  {
   "cell_type": "code",
   "execution_count": 8,
   "metadata": {},
   "outputs": [
    {
     "name": "stdout",
     "output_type": "stream",
     "text": [
      "Enter the first page number-6\n",
      "Enter the last page number32\n",
      "findDisarium((-6, 32)) -->\n",
      "Please enter valid page numbers\n"
     ]
    }
   ],
   "source": [
    "def disarium_check(number):\n",
    "    # count the digits\n",
    "    count_digits = len(str(number))\n",
    "    sum_digits = 0\n",
    "    for i in range(count_digits):\n",
    "        sum_digits += int(str(number)[i]) ** (i + 1)\n",
    "    if sum_digits == number:\n",
    "        return 1\n",
    "    else:\n",
    "        return 0\n",
    "\n",
    "\n",
    "start_page = int(input('Enter the first page number'))\n",
    "last_page = int(input('Enter the last page number'))\n",
    "\n",
    "def findDisarium(start_page, last_page):\n",
    "    if start_page >= 0:\n",
    "        disarium_list = []\n",
    "        for i in range(start_page, last_page + 1):\n",
    "            if disarium_check(i) == 1:\n",
    "                disarium_list.append(i)\n",
    "\n",
    "        return disarium_list\n",
    "    else:\n",
    "        exit\n",
    "\n",
    "try:\n",
    "    disarium_list = findDisarium(start_page,last_page)\n",
    "    print(f'findDisarium({start_page, last_page}) -->')\n",
    "    for j in range(len(disarium_list)):\n",
    "        print(f'{disarium_list[j]} | ', end=\"\")\n",
    "except TypeError:\n",
    "    print('Please enter valid page numbers')"
   ]
  },
  {
   "cell_type": "code",
   "execution_count": null,
   "metadata": {},
   "outputs": [],
   "source": []
  }
 ],
 "metadata": {
  "kernelspec": {
   "display_name": "Python 3",
   "language": "python",
   "name": "python3"
  },
  "language_info": {
   "codemirror_mode": {
    "name": "ipython",
    "version": 3
   },
   "file_extension": ".py",
   "mimetype": "text/x-python",
   "name": "python",
   "nbconvert_exporter": "python",
   "pygments_lexer": "ipython3",
   "version": "3.7.1"
  }
 },
 "nbformat": 4,
 "nbformat_minor": 2
}

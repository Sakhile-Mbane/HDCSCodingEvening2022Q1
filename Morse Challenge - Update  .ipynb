{
 "cells": [
  {
   "cell_type": "markdown",
   "metadata": {},
   "source": [
    "## Morse Code Challenge"
   ]
  },
  {
   "cell_type": "markdown",
   "metadata": {},
   "source": [
    "For this challenge, you will be required to build a Morse code encryptor and decrypter. You can use any langauge of your choosing \n",
    "to complete the challenge.\n",
    "\n",
    "Morse code is a method used in telecommunication to encode text characters as standardized sequences of two different signal durations, \n",
    "called dots and dashes, or dits and dahs. Morse code is named after Samuel Morse, one of the inventors of the telegraph.\n",
    "\n",
    "You can find a table of Morse code characters here:\n",
    "https://morsedecoder.com/\n",
    "\n",
    "Please note that for the purpose of this exercise, where there is a space between words, you should use \"/\" to separate words in your\n",
    "encrypted Morse code.\n",
    "Eg. HELLO WORLD --->  .... . .-.. .-.. --- / .-- --- .-. .-.. -..\n",
    "\n",
    "\n",
    "------------------------------------------\n",
    "STAGE 1\n",
    "------------------------------------------\n",
    "For the first step we would like you to create a function/method that encodes a sentence with words in all caps into morse code. For the\n",
    "function to be valid, you should have the following examples correctly encoded (please note all inputs and outputs are strings):\n",
    "\n",
    "\"CHALLENGE\" --> \"-.-. .... .- .-.. .-.. . -. --. .\"\n",
    "\"HELP ME !\" --> \".-..-. .... . .-.. .--. / -- . / -.-.-- .-..-.\"\n",
    "\"JOHN, THAT'S MY NAME\" --> \".-..-. .--- --- .... -. --..-- / - .... .- - .----. ... / -- -.-- / -. .- -- . .-..-.\"\n",
    "\n",
    "------------------------------------------\n",
    "STAGE 2\n",
    "------------------------------------------\n",
    "For the second step, we would like you to create a function/method that decodes Morse Code into sentences with upper case.\n",
    "This satge will be considered finished if the following inputs and outputs work correctly:\n",
    "\n",
    "\"-.-. .... .- .-.. .-.. . -. --. .\" --> \"CHALLENGE\" \n",
    "\".-..-. .... . .-.. .--. / -- . / -.-.-- .-..-.\" --> \"HELP ME !\"\n",
    "\".-..-. .--- --- .... -. --..-- / - .... .- - .----. ... / -- -.-- / -. .- -- . .-..-.\" --> \"JOHN, THAT'S MY NAME\"\n",
    "\n",
    "-----------------------------------------\n",
    "STAGE 3\n",
    "-----------------------------------------\n",
    "We would like you to include a menu that allows a user to select whether they want to encode or decode and then take a user\n",
    "input and use the relevant function. The menu should look as follows:\n",
    "\n",
    "Please select an option by entering the menu number:\n",
    "1. Encrypt to Morse Code\n",
    "2. Decrypt from Morse Code\n",
    "0. Exit"
   ]
  },
  {
   "cell_type": "code",
   "execution_count": 7,
   "metadata": {},
   "outputs": [],
   "source": [
    "# Stage 1 - encrytion.\n",
    "\n",
    "morse_map = {'A':'.-','B':'-...','C':'-.-.','D' : '-..', 'E':'.','F':'..-.','G':'--.', 'H':'....',\n",
    "                    'I':'..', 'J':'.---', 'K':'-.-',\n",
    "                    'L':'.-..', 'M':'--', 'N':'-.',\n",
    "                    'O':'---', 'P':'.--.', 'Q':'--.-',\n",
    "                    'R':'.-.', 'S':'...', 'T':'-',\n",
    "                    'U':'..-', 'V':'...-', 'W':'.--',\n",
    "                    'X':'-..-', 'Y':'-.--', 'Z':'--..',\n",
    "                    0:'-----',1:'.----',2:'..---', 3: '...--',\n",
    "                    4:'....-', 5:'.....', 6:'-....', 7:'--...',\n",
    "                    8:'---..',9:'----.', '.':'.-.-.-', ',':'--..--',\n",
    "                    '?' : '..--..', '\\'':'.----.','!':'-.-.--', '/':' ',\n",
    "                     '(': '-.--.',')':'-.--.-','&':'.-...',':':'---...',';':'-.-.-.',\n",
    "            '=': '-...-', '+': '.-.-.', '-':'-....-', '_':'..--.-','\\\"':'.-..-.','$': '...-..-', \n",
    "            '@': '.--.-.','¿':'..-.-', '¡':'--...-'}\n",
    "\n",
    "# message = input('enter message to encrypt in CAPITAL LETTERS: ').upper()\n",
    "\n",
    "def encrytion(message):\n",
    "    ciphertext = ''\n",
    "    for letter in message:\n",
    "        if letter != ' ':\n",
    "            ciphertext += morse_map[letter] + ' '\n",
    "        else:\n",
    "            ciphertext += '/'\n",
    "    return ciphertext"
   ]
  },
  {
   "cell_type": "markdown",
   "metadata": {},
   "source": [
    "# Stage 2 - decrytion"
   ]
  },
  {
   "cell_type": "code",
   "execution_count": 16,
   "metadata": {},
   "outputs": [],
   "source": [
    "\n",
    "\n",
    "def decryption(message):\n",
    "    message += ' '\n",
    "    \n",
    "    deciphertext = ''\n",
    "    ciphertext = ''\n",
    "    temp = 0\n",
    "    for letter in message:\n",
    "        \n",
    "        if letter != ' ':\n",
    "            temp = 0\n",
    "            ciphertext += letter\n",
    "        else: \n",
    "            temp += 1\n",
    "            \n",
    "            if temp == 2:\n",
    "                decipher += '/'\n",
    "            else:\n",
    "                deciphertext += list(morse_map.keys())[list(morse_map.values()).index(ciphertext)]\n",
    "                ciphertext = ' '\n",
    "                               \n",
    "    return deciphertext\n"
   ]
  },
  {
   "cell_type": "markdown",
   "metadata": {},
   "source": [
    "# Stage 3 - Menu"
   ]
  },
  {
   "cell_type": "code",
   "execution_count": 20,
   "metadata": {},
   "outputs": [
    {
     "name": "stdout",
     "output_type": "stream",
     "text": [
      "Please select an option by entering the menu number \n",
      "1. Encrypt to Morse Code \n",
      "2. Decrypt from Morse Code  \n",
      "3. Exit \n",
      "1\n",
      "enter message to encrypt in CAPITAL LETTERS: Sakhile MBane\n",
      "The encrypted SAKHILE MBANE to Morse code is ... .- -.- .... .. .-.. . /-- -... .- -. . \n"
     ]
    }
   ],
   "source": [
    "user_request = input('Please select an option by entering the menu number \\n'\n",
    "                        '1. Encrypt to Morse Code \\n'\n",
    "                        '2. Decrypt from Morse Code  \\n'\n",
    "                        '3. Exit \\n')\n",
    "\n",
    "if user_request == '1':\n",
    "    message = input('enter message to encrypt in CAPITAL LETTERS: ').upper()\n",
    "    results = encrytion(message)\n",
    "    print(f'The encrypted {message} to Morse code is {results}'.format(message,results))\n",
    "\n",
    "elif user_request == '2':\n",
    "    message = input('enter message to encrypt in Morse code: ')\n",
    "    results = decryption(message)\n",
    "    print(f'The decrypted {message} to english is {results}'.format(message,results))\n",
    "\n",
    "else:\n",
    "    print(f'You have quit the program.')\n",
    "    \n",
    "        "
   ]
  },
  {
   "cell_type": "code",
   "execution_count": null,
   "metadata": {},
   "outputs": [],
   "source": []
  }
 ],
 "metadata": {
  "kernelspec": {
   "display_name": "Python 3",
   "language": "python",
   "name": "python3"
  },
  "language_info": {
   "codemirror_mode": {
    "name": "ipython",
    "version": 3
   },
   "file_extension": ".py",
   "mimetype": "text/x-python",
   "name": "python",
   "nbconvert_exporter": "python",
   "pygments_lexer": "ipython3",
   "version": "3.7.1"
  }
 },
 "nbformat": 4,
 "nbformat_minor": 2
}

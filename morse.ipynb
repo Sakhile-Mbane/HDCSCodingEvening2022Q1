{
 "cells": [
  {
   "cell_type": "code",
   "execution_count": 15,
   "metadata": {},
   "outputs": [
    {
     "name": "stdout",
     "output_type": "stream",
     "text": [
      "enter messageto encrypt in CAPITAL LETTERS: HELLO WORLD\n"
     ]
    },
    {
     "data": {
      "text/plain": [
       "'HELLO-..-.WORLD'"
      ]
     },
     "execution_count": 15,
     "metadata": {},
     "output_type": "execute_result"
    }
   ],
   "source": [
    "#STAGE1 - encrytion.\n",
    "\n",
    "morse_map = {'A':'.-','B':'-...','C':'-.-.','D' : '-..', 'E':'.','F':'..-.','G':'--.', 'H':'....',\n",
    "                    'I':'..', 'J':'.---', 'K':'-.-',\n",
    "                    'L':'.-..', 'M':'--', 'N':'-.',\n",
    "                    'O':'---', 'P':'.--.', 'Q':'--.-',\n",
    "                    'R':'.-.', 'S':'...', 'T':'-',\n",
    "                    'U':'..-', 'V':'...-', 'W':'.--',\n",
    "                    'X':'-..-', 'Y':'-.--', 'Z':'--..','-..-.':'/'}\n",
    "message = input('enter messageto encrypt in CAPITAL LETTERS: ')\n",
    "def encrytion(message):\n",
    "    ciphertext = ''\n",
    "    for letter in message:\n",
    "        if letter != ' ':\n",
    "            ciphertext += morse_map[letter] + ' '\n",
    "        else:\n",
    "            ciphertext += ' '\n",
    "    return ciphertext\n",
    "\n",
    "encrytion(message)\n",
    "\n",
    "def decryption(message):\n",
    "    message += ' '\n",
    "    deciphertext = ''\n",
    "    ciphertext = ''\n",
    "    \n",
    "    for letter in message:\n",
    "        \n",
    "        if letter != ' ':\n",
    "            temp = 0\n",
    "            ciphertext +=letter\n",
    "            if temp == 2:\n",
    "                deciphertext += ' '\n",
    "        else: \n",
    "            deciphertext += list(morse_map.keys())[list(morse_map.values()).index(ciphertext)]\n",
    "            ciphertext = ''\n",
    "                               \n",
    "    return deciphertext\n",
    "decryption('.... . .-.. .-.. --- / .-- --- .-. .-.. -..')"
   ]
  },
  {
   "cell_type": "code",
   "execution_count": null,
   "metadata": {},
   "outputs": [],
   "source": []
  }
 ],
 "metadata": {
  "kernelspec": {
   "display_name": "Python 3",
   "language": "python",
   "name": "python3"
  },
  "language_info": {
   "codemirror_mode": {
    "name": "ipython",
    "version": 3
   },
   "file_extension": ".py",
   "mimetype": "text/x-python",
   "name": "python",
   "nbconvert_exporter": "python",
   "pygments_lexer": "ipython3",
   "version": "3.7.1"
  }
 },
 "nbformat": 4,
 "nbformat_minor": 2
}
